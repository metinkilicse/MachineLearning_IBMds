{
 "cells": [
  {
   "cell_type": "code",
   "execution_count": 1,
   "metadata": {},
   "outputs": [],
   "source": [
    "# Major Machine Learning Techniques\n",
    "\n",
    "# - Regression/Estimation\n",
    "# -- Predicting continuous values\n",
    "# - Classification\n",
    "# -- Predicting the item class/category of a case\n",
    "# - Clusterin\n",
    "# -- Finding the structure of data; summarization\n",
    "# - Associations\n",
    "# -- Associating frequent co-occuring items/events\n",
    "# - Anomaly detection\n",
    "# -- Discovering abnormal and unusual cases\n",
    "# - Sequence mining\n",
    "# -- Predicting next events; click-stream (Markov Model, HMM)\n",
    "# - Dimension Reduction\n",
    "# -- Reducing the size of data (PCA)\n",
    "# - Recommendation systems\n",
    "# -- Recommending items"
   ]
  },
  {
   "cell_type": "code",
   "execution_count": 2,
   "metadata": {},
   "outputs": [],
   "source": [
    "# Difference between AI - ML - DL\n",
    "\n",
    "# AI tries to make computers intelligent. ML is the branch of AI. Statistical Part. Learning and solving problems.\n",
    "# DL Computers can learn and make intelligent decisions on their own.\n",
    "\n",
    "# AI components:\n",
    "# - Computer vision, language processing, creativity\n",
    "# ML components:\n",
    "# - Classification, clustering, neural network\n",
    "# Revolution in ML:\n",
    "# - Deep learning"
   ]
  },
  {
   "cell_type": "code",
   "execution_count": null,
   "metadata": {},
   "outputs": [],
   "source": [
    "# Supervised vs Unsupervised\n",
    "\n",
    "# Supervised\n",
    "\n",
    "# We teach the model, then with that knowledge, it can predict unknown or future instances.\n",
    "# Data is labeled\n",
    "# Techniques : classification and regression\n",
    "\n",
    "# Unsupervised\n",
    "\n",
    "# The model works on its own to discover information.\n",
    "# Data is unlabeled\n",
    "# Techniques : Dimension reduction, Density estimation, Market basket analysis, Clustering"
   ]
  }
 ],
 "metadata": {
  "kernelspec": {
   "display_name": "Python 3",
   "language": "python",
   "name": "python3"
  },
  "language_info": {
   "codemirror_mode": {
    "name": "ipython",
    "version": 3
   },
   "file_extension": ".py",
   "mimetype": "text/x-python",
   "name": "python",
   "nbconvert_exporter": "python",
   "pygments_lexer": "ipython3",
   "version": "3.7.5"
  }
 },
 "nbformat": 4,
 "nbformat_minor": 4
}
